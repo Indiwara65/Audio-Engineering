{
 "cells": [
  {
   "cell_type": "code",
   "execution_count": 7,
   "id": "0df2a625",
   "metadata": {},
   "outputs": [],
   "source": [
    "import tkinter as tk\n",
    "import threading\n",
    "import numpy as np\n",
    "from scipy.signal import butter, lfilter, freqz\n",
    "from scipy.io import wavfile\n",
    "import matplotlib.pyplot as plt\n",
    "import pyaudio"
   ]
  },
  {
   "cell_type": "markdown",
   "id": "8611a82a",
   "metadata": {},
   "source": [
    "#### Import Track"
   ]
  },
  {
   "cell_type": "code",
   "execution_count": 8,
   "id": "ca64662c",
   "metadata": {},
   "outputs": [
    {
     "name": "stdout",
     "output_type": "stream",
     "text": [
      "sample_rate : 48000\n"
     ]
    }
   ],
   "source": [
    "sample_rate, audio_data = wavfile.read(\"120 BPM - ROCK - 4⧸4 Drum Track - Metronome - Drum Beat.wav\")\n",
    "audio_data = audio_data.T\n",
    "print(\"sample_rate :\",sample_rate)"
   ]
  },
  {
   "cell_type": "code",
   "execution_count": 9,
   "id": "fe094dc9",
   "metadata": {},
   "outputs": [],
   "source": [
    "def butter_lowpass_filter(data, cutoff_frequency, sampling_rate, order=4):\n",
    "    nyquist = 0.5 * sampling_rate\n",
    "    normal_cutoff = cutoff_frequency / nyquist\n",
    "    b, a = butter(order, normal_cutoff, btype='low', analog=False)\n",
    "    y = lfilter(b, a, data)\n",
    "    return y\n",
    "\n",
    "def butter_highpass_filter(data, cutoff_frequency, sampling_rate, order=4):\n",
    "    nyquist = 0.5 * sampling_rate\n",
    "    normal_cutoff = cutoff_frequency / nyquist\n",
    "    b, a = butter(order, normal_cutoff, btype='high', analog=False)\n",
    "    y = lfilter(b, a, data)\n",
    "    return y\n",
    "\n",
    "def butter_bandpass_filter(data, lowcut, highcut, sampling_rate, order=4):\n",
    "    nyquist = 0.5 * sampling_rate\n",
    "    low = lowcut / nyquist\n",
    "    high = highcut / nyquist\n",
    "    b, a = butter(order, [low, high], btype='band', analog=False)\n",
    "    y = lfilter(b, a, data)\n",
    "    return y"
   ]
  },
  {
   "cell_type": "code",
   "execution_count": 31,
   "id": "832390d5",
   "metadata": {},
   "outputs": [],
   "source": [
    "def update_gain(value, low = False, mid = False, high=False, fre=False):\n",
    "    global lp_scale, bp_scale, hp_scale, lp_gain, bp_gain, hp_gain\n",
    "    value = int(value)\n",
    "    if low:\n",
    "        lp_gain = 10**(value/20)\n",
    "    elif high:\n",
    "        hp_gain = 10**(value/20)\n",
    "    elif mid:\n",
    "        bp_gain = 10**(value/20)\n",
    "    elif fre:\n",
    "        mid_fre = value\n",
    "    lp_scale = lp_gain/(lp_gain + bp_gain + hp_gain)\n",
    "    bp_scale = bp_gain/(lp_gain + bp_gain + hp_gain)\n",
    "    hp_scale = hp_gain/(lp_gain + bp_gain + hp_gain)"
   ]
  },
  {
   "cell_type": "code",
   "execution_count": 36,
   "id": "cbdc322e",
   "metadata": {},
   "outputs": [],
   "source": [
    "def create_play():\n",
    "    thread = threading.Thread(target=play)\n",
    "    thread.start()\n",
    "\n",
    "def play():\n",
    "    global audio_data, sample_rate\n",
    "    #global deno_L, nume_L, deno_M, nume_M, deno_H, nume_H \n",
    "    global lp_scale, bp_scale, hp_scale, mid_fre\n",
    "    CHUNK = sample_rate\n",
    "    p = pyaudio.PyAudio()\n",
    "    stream = p.open(format=pyaudio.paInt32,\n",
    "                channels = 1,\n",
    "                rate = sample_rate,\n",
    "                frames_per_buffer = CHUNK,\n",
    "                output = True)\n",
    "    \n",
    "    y_prev_lp = np.zeros(2)\n",
    "    y_prev_bp = np.zeros(2)\n",
    "    y_prev_hp = np.zeros(2)\n",
    "    \n",
    "    cutoff_frequency_lp = 100  # Hz\n",
    "    cutoff_frequency_lp = 6500  # Hz\n",
    "    for k in range(6*CHUNK, 46*CHUNK, CHUNK):\n",
    "        x = np.array(audio_data[0, k : k+CHUNK])\n",
    "        # Low-pass filter\n",
    "        lpf_signal = butter_lowpass_filter(x, cutoff_frequency_lp, sample_rate)\n",
    "        lpf_signal = lpf_signal.astype(int)\n",
    "        lpf_signal = scale_array(x, lpf_signal)\n",
    "\n",
    "        # High-pass filter\n",
    "        hpf_signal = butter_highpass_filter(x, cutoff_frequency_lp, sample_rate)\n",
    "        hpf_signal = hpf_signal.astype(int)\n",
    "        hpf_signal = scale_array(x, hpf_signal)\n",
    "\n",
    "        # Band-pass filter\n",
    "        lowcut_bp = mid_fre - 50  # Hz\n",
    "        highcut_bp = mid_fre + 50  # Hz\n",
    "        bpf_signal = butter_bandpass_filter(x, lowcut_bp, highcut_bp, sample_rate)\n",
    "        bpf_signal = bpf_signal.astype(int)\n",
    "        bpf_signal = scale_array(x, bpf_signal)\n",
    "\n",
    "        \n",
    "        y = lp_scale*lpf_signal + bp_scale*0.5*bpf_signal + hp_scale*hpf_signal\n",
    "        y = y.astype(int)\n",
    "\n",
    "        #Reshaping\n",
    "        y_n = y.reshape(1, -1)\n",
    "        #Playing\n",
    "        stream.write(y_n.tobytes()) "
   ]
  },
  {
   "cell_type": "code",
   "execution_count": null,
   "id": "5c78e9ac",
   "metadata": {},
   "outputs": [],
   "source": [
    "lp_gain = 1\n",
    "bp_gain = 1\n",
    "hp_gain = 1\n",
    "mid_fre = 500\n",
    "\n",
    "lp_scale = lp_gain/(lp_gain + bp_gain + hp_gain)\n",
    "bp_scale = bp_gain/(lp_gain + bp_gain + hp_gain)\n",
    "hp_scale = hp_gain/(lp_gain + bp_gain + hp_gain)\n",
    "\n",
    "\n",
    "# Create the main window\n",
    "root = tk.Tk()\n",
    "root.title(\"EQ\")\n",
    "\n",
    "# Create a label to display the selected value\n",
    "label = tk.Label(root, text=\"Equalizer\")\n",
    "label.pack(pady=10)\n",
    "\n",
    "root.geometry(\"500x400\")\n",
    "\n",
    "# Bass vertical slider \n",
    "bass_slider = tk.Scale(root, from_=15, to=-15, orient=tk.VERTICAL, length=200, command=lambda value: update_gain(value, low=True))\n",
    "bass_slider.place(x=50, y=50)\n",
    "label_s = tk.Label(root, text=\"LF\")\n",
    "label_s.place(x=65, y=260)\n",
    "\n",
    "# frequency slider \n",
    "frequency_slider = tk.Scale(root, from_=500, to=12000, orient=tk.VERTICAL, length=200, command=lambda value:update_gain(value, fre = True))\n",
    "frequency_slider.place(x=350, y=50)\n",
    "label_s = tk.Label(root, text=\"Fre\")\n",
    "label_s.place(x=380, y=260)\n",
    "\n",
    "# Mid vertical slider \n",
    "mid_slider = tk.Scale(root, from_=15, to=-15, orient=tk.VERTICAL, length=200, command=lambda value:update_gain(value, mid = True))\n",
    "mid_slider.place(x=150, y=50)\n",
    "label_s = tk.Label(root, text=\"MF\")\n",
    "label_s.place(x=170, y=260)\n",
    "\n",
    "# Treble vertical slider \n",
    "treble_slider = tk.Scale(root, from_=15, to=-15, orient=tk.VERTICAL, length=200, command=lambda value:update_gain(value, high = True))\n",
    "treble_slider.place(x=250, y=50)\n",
    "label_s = tk.Label(root, text=\"HF\")\n",
    "label_s.place(x=270, y=260)\n",
    "\n",
    "#play/pause\n",
    "play_button = tk.Button(text = 'Play/Pause', command = create_play)\n",
    "play_button.place(x=200, y=360)\n",
    "\n",
    "# Run the Tkinter event loop\n",
    "root.mainloop()"
   ]
  },
  {
   "cell_type": "code",
   "execution_count": null,
   "id": "7733aa64",
   "metadata": {},
   "outputs": [],
   "source": []
  },
  {
   "cell_type": "code",
   "execution_count": null,
   "id": "811cf8f2",
   "metadata": {},
   "outputs": [],
   "source": []
  }
 ],
 "metadata": {
  "kernelspec": {
   "display_name": "Python 3 (ipykernel)",
   "language": "python",
   "name": "python3"
  },
  "language_info": {
   "codemirror_mode": {
    "name": "ipython",
    "version": 3
   },
   "file_extension": ".py",
   "mimetype": "text/x-python",
   "name": "python",
   "nbconvert_exporter": "python",
   "pygments_lexer": "ipython3",
   "version": "3.11.3"
  }
 },
 "nbformat": 4,
 "nbformat_minor": 5
}
